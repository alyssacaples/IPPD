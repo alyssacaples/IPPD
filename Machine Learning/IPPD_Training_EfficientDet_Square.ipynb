{
  "nbformat": 4,
  "nbformat_minor": 0,
  "metadata": {
    "colab": {
      "provenance": []
    },
    "kernelspec": {
      "name": "python3",
      "display_name": "Python 3"
    },
    "language_info": {
      "name": "python"
    },
    "accelerator": "GPU",
    "gpuClass": "standard"
  },
  "cells": [
    {
      "cell_type": "markdown",
      "source": [
        "Code inspired by https://youtu.be/-ZyFYniGUsw"
      ],
      "metadata": {
        "id": "jXl6J4u7svEt"
      }
    },
    {
      "cell_type": "markdown",
      "source": [
        "#1. Install and Import Dependencies"
      ],
      "metadata": {
        "id": "zO-nwj0CVLyr"
      }
    },
    {
      "cell_type": "code",
      "execution_count": null,
      "metadata": {
        "colab": {
          "base_uri": "https://localhost:8080/"
        },
        "id": "iuhzGsQsQtuF",
        "outputId": "a7bcbdf5-a131-4258-a117-25766b1bc1ba"
      },
      "outputs": [
        {
          "output_type": "stream",
          "name": "stdout",
          "text": [
            "\u001b[K     |████████████████████████████████| 577 kB 30.4 MB/s \n",
            "\u001b[K     |████████████████████████████████| 128 kB 73.2 MB/s \n",
            "\u001b[K     |████████████████████████████████| 77 kB 5.3 MB/s \n",
            "\u001b[K     |████████████████████████████████| 3.4 MB 60.6 MB/s \n",
            "\u001b[K     |████████████████████████████████| 1.3 MB 62.9 MB/s \n",
            "\u001b[K     |████████████████████████████████| 238 kB 73.3 MB/s \n",
            "\u001b[K     |████████████████████████████████| 840 kB 67.6 MB/s \n",
            "\u001b[K     |████████████████████████████████| 60.2 MB 1.2 MB/s \n",
            "\u001b[K     |████████████████████████████████| 87 kB 6.7 MB/s \n",
            "\u001b[K     |████████████████████████████████| 10.9 MB 29.6 MB/s \n",
            "\u001b[K     |████████████████████████████████| 1.1 MB 57.8 MB/s \n",
            "\u001b[K     |████████████████████████████████| 25.3 MB 1.3 MB/s \n",
            "\u001b[K     |████████████████████████████████| 497.9 MB 32 kB/s \n",
            "\u001b[K     |████████████████████████████████| 352 kB 68.1 MB/s \n",
            "\u001b[K     |████████████████████████████████| 1.4 MB 54.3 MB/s \n",
            "\u001b[K     |████████████████████████████████| 462 kB 76.2 MB/s \n",
            "\u001b[K     |████████████████████████████████| 5.8 MB 54.5 MB/s \n",
            "\u001b[K     |████████████████████████████████| 40 kB 6.5 MB/s \n",
            "\u001b[K     |████████████████████████████████| 213 kB 76.6 MB/s \n",
            "\u001b[K     |████████████████████████████████| 1.1 MB 67.5 MB/s \n",
            "\u001b[?25h  Building wheel for fire (setup.py) ... \u001b[?25l\u001b[?25hdone\n"
          ]
        }
      ],
      "source": [
        "!pip install -q tflite-model-maker\n",
        "!pip install -q tflite-support"
      ]
    },
    {
      "cell_type": "code",
      "source": [
        "import numpy as np\n",
        "import os\n",
        "\n",
        "from tflite_model_maker.config import ExportFormat, QuantizationConfig\n",
        "from tflite_model_maker import model_spec\n",
        "from tflite_model_maker import object_detector\n",
        "\n",
        "from tflite_support import metadata\n",
        "\n",
        "import tensorflow as tf\n",
        "assert tf.__version__.startswith('2')\n",
        "\n",
        "tf.get_logger().setLevel('ERROR')\n",
        "from absl import logging\n",
        "logging.set_verbosity(logging.ERROR)"
      ],
      "metadata": {
        "id": "uXQCPQkEQ4OR"
      },
      "execution_count": null,
      "outputs": []
    },
    {
      "cell_type": "markdown",
      "source": [
        "# 2. Establish Training and Validation Sets"
      ],
      "metadata": {
        "id": "D9FfKWnxVRPh"
      }
    },
    {
      "cell_type": "code",
      "source": [
        "train_data = object_detector.DataLoader.from_pascal_voc(\n",
        "    '/content/drive/MyDrive/Final_Images_Square/train',\n",
        "    '/content/drive/MyDrive/Final_Images_Square/train',\n",
        "    ['Caribbean Fruit Fly', 'Mediterranean Fruit Fly', 'Oriental Fruit Fly']\n",
        ")\n",
        "\n",
        "val_data = object_detector.DataLoader.from_pascal_voc(\n",
        "    '/content/drive/MyDrive/Final_Images_Square/validate',\n",
        "    '/content/drive/MyDrive/Final_Images_Square/validate',\n",
        "    ['Caribbean Fruit Fly', 'Mediterranean Fruit Fly', 'Oriental Fruit Fly']\n",
        ")"
      ],
      "metadata": {
        "id": "fV9I0pHZRGXM"
      },
      "execution_count": null,
      "outputs": []
    },
    {
      "cell_type": "markdown",
      "source": [
        "#3. Choose Detection Model"
      ],
      "metadata": {
        "id": "oiP5DDrFVZrI"
      }
    },
    {
      "cell_type": "code",
      "source": [
        "spec = model_spec.get('efficientdet_lite0')"
      ],
      "metadata": {
        "colab": {
          "base_uri": "https://localhost:8080/",
          "height": 167
        },
        "id": "aLFfIMukTSu6",
        "outputId": "c62dfb10-dbbd-4044-f48b-0434f5afa38c"
      },
      "execution_count": null,
      "outputs": [
        {
          "output_type": "error",
          "ename": "NameError",
          "evalue": "ignored",
          "traceback": [
            "\u001b[0;31m---------------------------------------------------------------------------\u001b[0m",
            "\u001b[0;31mNameError\u001b[0m                                 Traceback (most recent call last)",
            "\u001b[0;32m<ipython-input-1-ab627620e565>\u001b[0m in \u001b[0;36m<module>\u001b[0;34m\u001b[0m\n\u001b[0;32m----> 1\u001b[0;31m \u001b[0mspec\u001b[0m \u001b[0;34m=\u001b[0m \u001b[0mmodel_spec\u001b[0m\u001b[0;34m.\u001b[0m\u001b[0mget\u001b[0m\u001b[0;34m(\u001b[0m\u001b[0;34m'efficientdet_lite5'\u001b[0m\u001b[0;34m)\u001b[0m\u001b[0;34m\u001b[0m\u001b[0;34m\u001b[0m\u001b[0m\n\u001b[0m",
            "\u001b[0;31mNameError\u001b[0m: name 'model_spec' is not defined"
          ]
        }
      ]
    },
    {
      "cell_type": "markdown",
      "source": [
        "#4. Train Detection Model"
      ],
      "metadata": {
        "id": "Sp_pk7o6VdF1"
      }
    },
    {
      "cell_type": "code",
      "source": [
        "model = object_detector.create(train_data, model_spec=spec, batch_size=1, train_whole_model=True, epochs=20, validation_data=val_data)"
      ],
      "metadata": {
        "colab": {
          "base_uri": "https://localhost:8080/"
        },
        "id": "St5N_Dd1To0r",
        "outputId": "3eaa5376-050a-4510-a502-f3e5278b7cea"
      },
      "execution_count": null,
      "outputs": [
        {
          "output_type": "stream",
          "name": "stdout",
          "text": [
            "Epoch 1/20\n",
            "13/13 [==============================] - 76s 848ms/step - det_loss: 2.6543 - cls_loss: 1.2181 - box_loss: 0.0287 - reg_l2_loss: 0.1080 - loss: 2.7622 - learning_rate: 0.0047 - gradient_norm: 6.7680 - val_det_loss: 1.4367 - val_cls_loss: 1.1646 - val_box_loss: 0.0054 - val_reg_l2_loss: 0.1080 - val_loss: 1.5447\n",
            "Epoch 2/20\n",
            "13/13 [==============================] - 7s 533ms/step - det_loss: 2.0153 - cls_loss: 1.1713 - box_loss: 0.0169 - reg_l2_loss: 0.1080 - loss: 2.1233 - learning_rate: 0.0012 - gradient_norm: 7.1196 - val_det_loss: 1.4722 - val_cls_loss: 1.1459 - val_box_loss: 0.0065 - val_reg_l2_loss: 0.1080 - val_loss: 1.5802\n",
            "Epoch 3/20\n",
            "13/13 [==============================] - 8s 605ms/step - det_loss: 2.4497 - cls_loss: 1.1869 - box_loss: 0.0253 - reg_l2_loss: 0.1080 - loss: 2.5577 - learning_rate: 0.0012 - gradient_norm: 6.6092 - val_det_loss: 1.5452 - val_cls_loss: 1.1320 - val_box_loss: 0.0083 - val_reg_l2_loss: 0.1080 - val_loss: 1.6533\n",
            "Epoch 4/20\n",
            "13/13 [==============================] - 7s 536ms/step - det_loss: 2.2433 - cls_loss: 1.1895 - box_loss: 0.0211 - reg_l2_loss: 0.1080 - loss: 2.3514 - learning_rate: 0.0011 - gradient_norm: 8.6239 - val_det_loss: 1.4652 - val_cls_loss: 1.1208 - val_box_loss: 0.0069 - val_reg_l2_loss: 0.1080 - val_loss: 1.5732\n",
            "Epoch 5/20\n",
            "13/13 [==============================] - 13s 1s/step - det_loss: 2.2284 - cls_loss: 1.1595 - box_loss: 0.0214 - reg_l2_loss: 0.1080 - loss: 2.3364 - learning_rate: 0.0011 - gradient_norm: 6.6511 - val_det_loss: 1.3991 - val_cls_loss: 1.1150 - val_box_loss: 0.0057 - val_reg_l2_loss: 0.1080 - val_loss: 1.5071\n",
            "Epoch 6/20\n",
            "13/13 [==============================] - 8s 617ms/step - det_loss: 1.9065 - cls_loss: 1.1678 - box_loss: 0.0148 - reg_l2_loss: 0.1080 - loss: 2.0145 - learning_rate: 0.0010 - gradient_norm: 8.0407 - val_det_loss: 1.3550 - val_cls_loss: 1.1071 - val_box_loss: 0.0050 - val_reg_l2_loss: 0.1080 - val_loss: 1.4630\n",
            "Epoch 7/20\n",
            "13/13 [==============================] - 7s 540ms/step - det_loss: 1.7188 - cls_loss: 1.1478 - box_loss: 0.0114 - reg_l2_loss: 0.1080 - loss: 1.8268 - learning_rate: 9.2259e-04 - gradient_norm: 8.5546 - val_det_loss: 1.3973 - val_cls_loss: 1.0924 - val_box_loss: 0.0061 - val_reg_l2_loss: 0.1080 - val_loss: 1.5053\n",
            "Epoch 8/20\n",
            "13/13 [==============================] - 7s 547ms/step - det_loss: 1.6246 - cls_loss: 1.1219 - box_loss: 0.0101 - reg_l2_loss: 0.1080 - loss: 1.7326 - learning_rate: 8.2822e-04 - gradient_norm: 8.4670 - val_det_loss: 1.3187 - val_cls_loss: 1.0785 - val_box_loss: 0.0048 - val_reg_l2_loss: 0.1080 - val_loss: 1.4268\n",
            "Epoch 9/20\n",
            "13/13 [==============================] - 8s 616ms/step - det_loss: 1.8286 - cls_loss: 1.1120 - box_loss: 0.0143 - reg_l2_loss: 0.1080 - loss: 1.9366 - learning_rate: 7.2830e-04 - gradient_norm: 8.3100 - val_det_loss: 1.2563 - val_cls_loss: 1.0709 - val_box_loss: 0.0037 - val_reg_l2_loss: 0.1080 - val_loss: 1.3644\n",
            "Epoch 10/20\n",
            "13/13 [==============================] - 8s 639ms/step - det_loss: 1.6496 - cls_loss: 1.1170 - box_loss: 0.0107 - reg_l2_loss: 0.1080 - loss: 1.7576 - learning_rate: 6.2557e-04 - gradient_norm: 6.9625 - val_det_loss: 1.2648 - val_cls_loss: 1.0528 - val_box_loss: 0.0042 - val_reg_l2_loss: 0.1080 - val_loss: 1.3728\n",
            "Epoch 11/20\n",
            "13/13 [==============================] - 8s 621ms/step - det_loss: 1.4616 - cls_loss: 1.0648 - box_loss: 0.0079 - reg_l2_loss: 0.1080 - loss: 1.5696 - learning_rate: 5.2281e-04 - gradient_norm: 7.6756 - val_det_loss: 1.2254 - val_cls_loss: 1.0391 - val_box_loss: 0.0037 - val_reg_l2_loss: 0.1080 - val_loss: 1.3334\n",
            "Epoch 12/20\n",
            "13/13 [==============================] - 8s 669ms/step - det_loss: 1.4270 - cls_loss: 1.1139 - box_loss: 0.0063 - reg_l2_loss: 0.1080 - loss: 1.5351 - learning_rate: 4.2285e-04 - gradient_norm: 6.9107 - val_det_loss: 1.2571 - val_cls_loss: 1.0371 - val_box_loss: 0.0044 - val_reg_l2_loss: 0.1080 - val_loss: 1.3651\n",
            "Epoch 13/20\n",
            "13/13 [==============================] - 7s 568ms/step - det_loss: 1.3972 - cls_loss: 1.0587 - box_loss: 0.0068 - reg_l2_loss: 0.1080 - loss: 1.5052 - learning_rate: 3.2840e-04 - gradient_norm: 8.0826 - val_det_loss: 1.3683 - val_cls_loss: 1.0636 - val_box_loss: 0.0061 - val_reg_l2_loss: 0.1080 - val_loss: 1.4763\n",
            "Epoch 14/20\n",
            "13/13 [==============================] - 7s 576ms/step - det_loss: 1.4895 - cls_loss: 1.0598 - box_loss: 0.0086 - reg_l2_loss: 0.1080 - loss: 1.5976 - learning_rate: 2.4204e-04 - gradient_norm: 8.5148 - val_det_loss: 1.3523 - val_cls_loss: 1.0513 - val_box_loss: 0.0060 - val_reg_l2_loss: 0.1080 - val_loss: 1.4604\n",
            "Epoch 15/20\n",
            "13/13 [==============================] - 8s 675ms/step - det_loss: 1.3616 - cls_loss: 1.0393 - box_loss: 0.0064 - reg_l2_loss: 0.1080 - loss: 1.4696 - learning_rate: 1.6613e-04 - gradient_norm: 8.3901 - val_det_loss: 1.3516 - val_cls_loss: 1.0617 - val_box_loss: 0.0058 - val_reg_l2_loss: 0.1080 - val_loss: 1.4597\n",
            "Epoch 16/20\n",
            "13/13 [==============================] - 8s 648ms/step - det_loss: 1.4824 - cls_loss: 1.0480 - box_loss: 0.0087 - reg_l2_loss: 0.1080 - loss: 1.5904 - learning_rate: 1.0273e-04 - gradient_norm: 8.0193 - val_det_loss: 1.3306 - val_cls_loss: 1.0601 - val_box_loss: 0.0054 - val_reg_l2_loss: 0.1080 - val_loss: 1.4387\n",
            "Epoch 17/20\n",
            "13/13 [==============================] - 7s 568ms/step - det_loss: 1.4277 - cls_loss: 1.0359 - box_loss: 0.0078 - reg_l2_loss: 0.1080 - loss: 1.5357 - learning_rate: 5.3581e-05 - gradient_norm: 7.4052 - val_det_loss: 1.3236 - val_cls_loss: 1.0594 - val_box_loss: 0.0053 - val_reg_l2_loss: 0.1080 - val_loss: 1.4316\n",
            "Epoch 18/20\n",
            "13/13 [==============================] - 8s 640ms/step - det_loss: 1.4995 - cls_loss: 1.0881 - box_loss: 0.0082 - reg_l2_loss: 0.1080 - loss: 1.6075 - learning_rate: 2.0018e-05 - gradient_norm: 7.4625 - val_det_loss: 1.3140 - val_cls_loss: 1.0557 - val_box_loss: 0.0052 - val_reg_l2_loss: 0.1080 - val_loss: 1.4220\n",
            "Epoch 19/20\n",
            "13/13 [==============================] - 10s 799ms/step - det_loss: 1.3721 - cls_loss: 1.0130 - box_loss: 0.0072 - reg_l2_loss: 0.1080 - loss: 1.4801 - learning_rate: 2.9567e-06 - gradient_norm: 7.4577 - val_det_loss: 1.3111 - val_cls_loss: 1.0563 - val_box_loss: 0.0051 - val_reg_l2_loss: 0.1080 - val_loss: 1.4191\n",
            "Epoch 20/20\n",
            "13/13 [==============================] - 8s 654ms/step - det_loss: 1.3224 - cls_loss: 1.0354 - box_loss: 0.0057 - reg_l2_loss: 0.1080 - loss: 1.4305 - learning_rate: 2.8632e-06 - gradient_norm: 7.8204 - val_det_loss: 1.3103 - val_cls_loss: 1.0567 - val_box_loss: 0.0051 - val_reg_l2_loss: 0.1080 - val_loss: 1.4183\n"
          ]
        }
      ]
    },
    {
      "cell_type": "markdown",
      "source": [
        "#4. Evaluate Detection Model"
      ],
      "metadata": {
        "id": "NVCRPJbdVgpW"
      }
    },
    {
      "cell_type": "code",
      "source": [
        "model.evaluate(val_data)"
      ],
      "metadata": {
        "colab": {
          "base_uri": "https://localhost:8080/"
        },
        "id": "7t6_SkmqUfec",
        "outputId": "d0db1f33-1b86-4a33-e62f-fedb748a2b9d"
      },
      "execution_count": null,
      "outputs": [
        {
          "output_type": "stream",
          "name": "stdout",
          "text": [
            "\r1/1 [==============================] - 6s 6s/step\n",
            "\n"
          ]
        },
        {
          "output_type": "execute_result",
          "data": {
            "text/plain": [
              "{'AP': 0.15599559,\n",
              " 'AP50': 0.27832782,\n",
              " 'AP75': 0.16831683,\n",
              " 'APs': -1.0,\n",
              " 'APm': 0.15599559,\n",
              " 'APl': -1.0,\n",
              " 'ARmax1': 0.18333334,\n",
              " 'ARmax10': 0.18333334,\n",
              " 'ARmax100': 0.18333334,\n",
              " 'ARs': -1.0,\n",
              " 'ARm': 0.18333334,\n",
              " 'ARl': -1.0,\n",
              " 'AP_/Caribbean Fruit Fly': 0.4679868,\n",
              " 'AP_/Mediterranean Fruit Fly': 0.0,\n",
              " 'AP_/Oriental Fruit Fly': 0.0}"
            ]
          },
          "metadata": {},
          "execution_count": 7
        }
      ]
    },
    {
      "cell_type": "markdown",
      "source": [
        "#5. Export and Download Detection Model"
      ],
      "metadata": {
        "id": "8kABQcjtVlhD"
      }
    },
    {
      "cell_type": "code",
      "source": [
        "model.export(export_dir='/content/drive/MyDrive/', tflite_filename='fruitfly_detector.tflite')"
      ],
      "metadata": {
        "id": "RjYFSMSZUnOq"
      },
      "execution_count": null,
      "outputs": []
    },
    {
      "cell_type": "code",
      "source": [
        "model.evaluate_tflite('/content/drive/MyDrive/fruitfly_detector.tflite', val_data)"
      ],
      "metadata": {
        "colab": {
          "base_uri": "https://localhost:8080/"
        },
        "id": "i5pXwxgGUsm9",
        "outputId": "2bb29ec4-5821-404c-f514-5b72199a8368"
      },
      "execution_count": null,
      "outputs": [
        {
          "output_type": "stream",
          "name": "stdout",
          "text": [
            "3/3 [==============================] - 155s 52s/step\n",
            "\n"
          ]
        },
        {
          "output_type": "execute_result",
          "data": {
            "text/plain": [
              "{'AP': 0.1339934,\n",
              " 'AP50': 0.23432343,\n",
              " 'AP75': 0.16831683,\n",
              " 'APs': -1.0,\n",
              " 'APm': 0.1339934,\n",
              " 'APl': -1.0,\n",
              " 'ARmax1': 0.18333334,\n",
              " 'ARmax10': 0.18333334,\n",
              " 'ARmax100': 0.18333334,\n",
              " 'ARs': -1.0,\n",
              " 'ARm': 0.18333334,\n",
              " 'ARl': -1.0,\n",
              " 'AP_/Caribbean Fruit Fly': 0.4019802,\n",
              " 'AP_/Mediterranean Fruit Fly': 0.0,\n",
              " 'AP_/Oriental Fruit Fly': 0.0}"
            ]
          },
          "metadata": {},
          "execution_count": 11
        }
      ]
    },
    {
      "cell_type": "code",
      "source": [],
      "metadata": {
        "id": "_hBB2UbsXKjI"
      },
      "execution_count": null,
      "outputs": []
    }
  ]
}